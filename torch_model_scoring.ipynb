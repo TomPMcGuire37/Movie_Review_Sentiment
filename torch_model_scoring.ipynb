{
 "cells": [
  {
   "cell_type": "code",
   "execution_count": 1,
   "id": "cdc7ce7d-df88-4499-8eef-6d29407f748e",
   "metadata": {},
   "outputs": [],
   "source": [
    "import sentiment_utils as sent\n",
    "from sentiment_utils import MovieReviews\n",
    "from torch.utils.data import DataLoader\n",
    "import torch\n",
    "from torchtext.data import get_tokenizer\n",
    "import time\n",
    "from torchtext.vocab import build_vocab_from_iterator\n",
    "from torch.utils.data.dataset import random_split\n",
    "from sklearn.metrics import precision_score, recall_score, f1_score, confusion_matrix\n",
    "import datetime\n",
    "import os\n",
    "import time\n",
    "import glob\n",
    "import pandas as pd"
   ]
  },
  {
   "cell_type": "code",
   "execution_count": 2,
   "id": "da8c16d0-abec-42d6-a8cb-a445ce6758fb",
   "metadata": {},
   "outputs": [
    {
     "name": "stdout",
     "output_type": "stream",
     "text": [
      "Using cuda device for Torch\n"
     ]
    }
   ],
   "source": [
    "device = torch.device(\"cuda\" if torch.cuda.is_available() else \"cpu\")\n",
    "print(f\"Using {device} device for Torch\")"
   ]
  },
  {
   "cell_type": "code",
   "execution_count": 2,
   "id": "a982cda6-8b5e-44b6-8b69-bdbdd99d5bf8",
   "metadata": {},
   "outputs": [],
   "source": [
    "def score_model(true_labels, predictions):\n",
    "    precision = precision_score(true_labels, predictions, average='macro').round(4)\n",
    "    recall = recall_score(true_labels, predictions, average='macro').round(4)\n",
    "    f_measure = f1_score(true_labels, predictions, average='macro').round(4)\n",
    "    print(\"Precision: \", precision)\n",
    "    print(\"Recall: \", recall)\n",
    "    print(\"F Measure: \", f_measure)\n",
    "    return precision, recall, f_measure"
   ]
  },
  {
   "cell_type": "code",
   "execution_count": 10,
   "id": "bdd7402f-9521-4dda-b79f-d5e1c57c0434",
   "metadata": {},
   "outputs": [
    {
     "name": "stdout",
     "output_type": "stream",
     "text": [
      "simple_sent_2021619162431_predictions_trues.csv\n",
      "Precision:  0.5878\n",
      "Recall:  0.4253\n",
      "F Measure:  0.4565\n",
      "simple_sent_2021619163150_predictions_trues.csv\n",
      "Precision:  0.5964\n",
      "Recall:  0.4408\n",
      "F Measure:  0.4773\n",
      "simple_sent_2021619164040_predictions_trues.csv\n",
      "Precision:  0.5394\n",
      "Recall:  0.3582\n",
      "F Measure:  0.3799\n"
     ]
    }
   ],
   "source": [
    "torch_model_paths = glob.glob(\"./results/*.csv\")\n",
    "\n",
    "results = {}\n",
    "\n",
    "for model_path in torch_model_paths:\n",
    "    file_name = os.path.basename(model_path)\n",
    "    print(file_name)\n",
    "    pred_df = pd.read_csv(model_path)\n",
    "    conf_matrix = confusion_matrix(pred_df[\"Trues\"], pred_df[\"Prediction\"])\n",
    "    precision, recall, f_measure =\\\n",
    "            score_model(pred_df[\"Trues\"], pred_df[\"Prediction\"])\n",
    "    d = {\n",
    "        \"Confusion_Matrix\": conf_matrix,\n",
    "        \"Precision\": precision,\n",
    "        \"Recall\": recall,\n",
    "        \"F-Measure\": f_measure\n",
    "    }\n",
    "    \n",
    "    results[file_name] = d"
   ]
  },
  {
   "cell_type": "code",
   "execution_count": 12,
   "id": "97c35071-3db1-49d4-aa12-f038e0b4a4f1",
   "metadata": {},
   "outputs": [
    {
     "data": {
      "text/plain": [
       "{'simple_sent_2021619162431_predictions_trues.csv': {'Confusion_Matrix': array([[  821,  3563,  2624,    64,     0],\n",
       "         [  412, 11967, 14317,   568,     9],\n",
       "         [  238,  5562, 67494,  5909,   379],\n",
       "         [   15,   619, 14164, 17137,   992],\n",
       "         [    0,    58,  1878,  5399,  1871]], dtype=int64),\n",
       "  'Precision': 0.5878,\n",
       "  'Recall': 0.4253,\n",
       "  'F-Measure': 0.4565},\n",
       " 'simple_sent_2021619163150_predictions_trues.csv': {'Confusion_Matrix': array([[ 1218,  3062,  2705,    87,     0],\n",
       "         [  559, 11757, 14334,   614,     9],\n",
       "         [  318,  5286, 67329,  6238,   411],\n",
       "         [   22,   595, 13797, 17419,  1094],\n",
       "         [    2,    57,  1878,  5192,  2077]], dtype=int64),\n",
       "  'Precision': 0.5964,\n",
       "  'Recall': 0.4408,\n",
       "  'F-Measure': 0.4773},\n",
       " 'simple_sent_2021619164040_predictions_trues.csv': {'Confusion_Matrix': array([[  430,  2786,  3776,    80,     0],\n",
       "         [  292,  7703, 18708,   564,     6],\n",
       "         [  141,  4617, 68696,  5898,   230],\n",
       "         [    8,   429, 16719, 14958,   813],\n",
       "         [    0,    39,  2372,  5594,  1201]], dtype=int64),\n",
       "  'Precision': 0.5394,\n",
       "  'Recall': 0.3582,\n",
       "  'F-Measure': 0.3799}}"
      ]
     },
     "execution_count": 12,
     "metadata": {},
     "output_type": "execute_result"
    }
   ],
   "source": [
    "results"
   ]
  },
  {
   "cell_type": "code",
   "execution_count": null,
   "id": "515ce579-4697-4594-88f3-450164321d69",
   "metadata": {},
   "outputs": [],
   "source": []
  }
 ],
 "metadata": {
  "kernelspec": {
   "display_name": "Python 3",
   "language": "python",
   "name": "python3"
  },
  "language_info": {
   "codemirror_mode": {
    "name": "ipython",
    "version": 3
   },
   "file_extension": ".py",
   "mimetype": "text/x-python",
   "name": "python",
   "nbconvert_exporter": "python",
   "pygments_lexer": "ipython3",
   "version": "3.7.6"
  }
 },
 "nbformat": 4,
 "nbformat_minor": 5
}
